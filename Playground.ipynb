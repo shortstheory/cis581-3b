{
 "cells": [
  {
   "cell_type": "code",
   "metadata": {},
   "outputs": [],
   "source": [
    "%load_ext autoreload\n",
    "%autoreload 2\n",
    "%matplotlib inline\n",
    "\n",
    "from matplotlib import pyplot as plt\n",
    "plt.rcParams['figure.figsize'] = [10, 8]\n",
    "import cv2\n",
    "import xml.etree.ElementTree as ET \n",
    "import numpy as np\n",
    "import sys\n",
    "import warnings\n",
    "warnings.filterwarnings(\"ignore\")\n",
    "from getBoundingBoxes import *\n",
    "from corner_detector import *\n",
    "from getBoxFeatures import *\n",
    "from anms import *\n",
    "from utils import *\n",
    "from estimateAllTranslation import *\n",
    "from estimateFeatureTranslation import *\n",
    "from applyBoxTransform import *"
   ]
  },
  {
   "cell_type": "code",
   "metadata": {},
   "outputs": [],
   "source": [
    "# cap = cv2.VideoCapture('vids/Easy.mp4')\n",
    "# ret,firstFrame = cap.read()\n",
    "# boxes = getBoundingBoxes()\n",
    "# gray = cv2.cvtColor(firstFrame,cv2.COLOR_BGR2GRAY)\n",
    "\n",
    "# boxesData = []\n",
    "\n",
    "# for box in boxes:\n",
    "#     boximg = gray[box[1]:box[3],box[0]:box[2]]\n",
    "#     x,y = getBoxFeatures(boximg,box,100)\n",
    "#     boxData = {\n",
    "#         'coords': box,\n",
    "#         '_x': x,\n",
    "#         '_y': y\n",
    "#     }\n",
    "#     boxesData.append(boxData)\n",
    "\n",
    "# currentFrame = firstFrame\n",
    "# _,nextFrame = cap.read()"
   ]
  },
  {
   "cell_type": "code",
   "metadata": {},
   "outputs": [],
   "source": [
    "boxes = getBoundingBoxes()\n",
    "currentFrame = cv2.imread('frames/0001.png')\n",
    "nextFrame = cv2.imread('frames/0002.png')\n",
    "gray = cv2.cvtColor(currentFrame,cv2.COLOR_BGR2GRAY)\n",
    "box = boxes[0]\n",
    "boximg = gray[box[1]:box[3],box[0]:box[2]]\n",
    "x,y = getBoxFeatures(boximg,box,10)"
   ]
  },
  {
   "cell_type": "code",
   "metadata": {},
   "outputs": [],
   "source": [
    "# Imag, Ix, Iy,Iori=findDerivatives(gray)\n",
    "# plt.imshow(Imag)\n",
    "# _x = boxesData[0]['_x']\n",
    "# _y = boxesData[0]['_y']\n",
    "for i in range(3,110):\n",
    "    idx = str(i)\n",
    "    idx = (idx.zfill(4))\n",
    "    x,y=estimateAllTranslation(x,y,currentFrame,nextFrame)\n",
    "    currentFrame = nextFrame\n",
    "    print(x.shape)\n",
    "    plt.imshow(cv2.cvtColor(nextFrame,cv2.COLOR_BGR2GRAY))\n",
    "    fig = plt.gcf()\n",
    "    ax1 = fig.add_subplot(111)\n",
    "    ax1.scatter(x,y,c='r',s=1)\n",
    "    plt.savefig(\"outputs/\"+idx+\".png\")\n",
    "    nextFrame = cv2.imread(\"frames/\"+idx+\".png\")\n",
    "# print(X-x)\n",
    "# print(Y-y)"
   ]
  },
  {
   "cell_type": "code",
   "metadata": {},
   "outputs": [],
   "source": [
    "plt.imshow(gray)\n",
    "fig = plt.gcf()\n",
    "ax1 = fig.add_subplot(111)\n",
    "ax1.scatter(x,y,c='r',s=1)"
   ]
  },
  {
   "cell_type": "code",
   "metadata": {},
   "outputs": [],
   "source": [
    "plt.imshow(cv2.cvtColor(nextFrame,cv2.COLOR_BGR2GRAY))\n",
    "fig = plt.gcf()\n",
    "ax1 = fig.add_subplot(111)\n",
    "ax1.scatter(X,Y,c='r',s=1)\n"
   ]
  },
  {
   "cell_type": "code",
   "metadata": {},
   "outputs": [],
   "source": [
    "print(X-x)\n",
    "print(Y-y)"
   ]
  },
  {
   "cell_type": "code",
   "metadata": {},
   "outputs": [],
   "source": [
    "\n",
    "h = est_homography(x,y,X,Y)"
   ]
  },
  {
   "cell_type": "code",
   "metadata": {},
   "outputs": [],
   "source": [
    "pt = np.array([x[0],y[0],1]).T\n",
    "newpt = h@pt\n",
    "newpt = newpt/newpt[2]\n",
    "print(newpt)\n",
    "print(np.array([X[0],Y[0],1]))"
   ]
  },
  {
   "cell_type": "code",
   "metadata": {},
   "outputs": [],
   "source": [
    "n = x.shape[0]\n",
    "stk = np.vstack((x,y,np.ones(n)))\n",
    "\n",
    "newstk = np.vstack((X,Y,np.ones(n)))"
   ]
  },
  {
   "cell_type": "code",
   "metadata": {},
   "outputs": [],
   "source": [
    "res=h@stk\n",
    "res=res/res[2,:]"
   ]
  },
  {
   "cell_type": "code",
   "metadata": {},
   "outputs": [],
   "source": [
    "# bdata=boxesData[0]['coords']\n",
    "X,Y,_box = applyBoxTransform(x,y,X,Y,box)"
   ]
  },
  {
   "cell_type": "code",
   "metadata": {},
   "outputs": [],
   "source": [
    "_box"
   ]
  },
  {
   "cell_type": "code",
   "metadata": {},
   "outputs": [],
   "source": [
    "box"
   ]
  },
  {
   "cell_type": "code",
   "metadata": {},
   "outputs": [],
   "source": [
    "h"
   ]
  },
  {
   "cell_type": "code",
   "metadata": {},
   "outputs": [],
   "source": []
  }
 ],
 "metadata": {
  "kernelspec": {
   "display_name": "Python 3",
   "language": "python",
   "name": "python3"
  },
  "language_info": {
   "codemirror_mode": {
    "name": "ipython",
    "version": 3
   },
   "file_extension": ".py",
   "mimetype": "text/x-python",
   "name": "python",
   "nbconvert_exporter": "python",
   "pygments_lexer": "ipython3",
   "version": "3.7.5"
  }
 },
 "nbformat": 4,
 "nbformat_minor": 2
}