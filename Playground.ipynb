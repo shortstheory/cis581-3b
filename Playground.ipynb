{
 "cells": [
  {
   "cell_type": "code",
   "execution_count": 31,
   "metadata": {},
   "outputs": [
    {
     "name": "stdout",
     "output_type": "stream",
     "text": "The autoreload extension is already loaded. To reload it, use:\n  %reload_ext autoreload\n"
    }
   ],
   "source": [
    "%load_ext autoreload\n",
    "%autoreload 2\n",
    "%matplotlib inline\n",
    "from matplotlib import pyplot as plt\n",
    "import cv2\n",
    "import xml.etree.ElementTree as ET \n",
    "import numpy as np\n",
    "import sys\n",
    "from getBoundingBoxes import *\n",
    "from corner_detector import *\n",
    "from getBoxFeatures import *\n",
    "from anms import *\n",
    "from utils import *\n",
    "from estimateAllTranslation import *\n",
    "from estimateFeatureTranslation import *"
   ]
  },
  {
   "cell_type": "code",
   "execution_count": 21,
   "metadata": {},
   "outputs": [],
   "source": [
    "cap = cv2.VideoCapture('vids/Easy.mp4')\n",
    "ret,firstFrame = cap.read()\n",
    "boxes = getBoundingBoxes()\n",
    "gray = cv2.cvtColor(firstFrame,cv2.COLOR_BGR2GRAY)\n",
    "\n",
    "boxesData = []\n",
    "\n",
    "for box in boxes:\n",
    "    boximg = gray[box[1]:box[3],box[0]:box[2]]\n",
    "    x,y = getBoxFeatures(boximg,box)\n",
    "    boxData = {\n",
    "        'coords': box,\n",
    "        '_x': x,\n",
    "        '_y': y\n",
    "    }\n",
    "    boxesData.append(boxData)\n",
    "\n",
    "currentFrame = firstFrame\n",
    "_,nextFrame = cap.read()\n"
   ]
  },
  {
   "cell_type": "code",
   "execution_count": 40,
   "metadata": {},
   "outputs": [
    {
     "name": "stdout",
     "output_type": "stream",
     "text": "(100,)\n"
    }
   ],
   "source": [
    "# Imag, Ix, Iy,Iori=findDerivatives(gray)\n",
    "# plt.imshow(Imag)\n",
    "_x = boxesData[0]['_x']\n",
    "_y = boxesData[0]['_y']\n",
    "X,Y=estimateAllTranslation(_x,_y,currentFrame,nextFrame)"
   ]
  },
  {
   "cell_type": "code",
   "metadata": {},
   "outputs": [],
   "source": []
  }
 ],
 "metadata": {
  "kernelspec": {
   "display_name": "Python 3",
   "language": "python",
   "name": "python3"
  },
  "language_info": {
   "codemirror_mode": {
    "name": "ipython",
    "version": 3
   },
   "file_extension": ".py",
   "mimetype": "text/x-python",
   "name": "python",
   "nbconvert_exporter": "python",
   "pygments_lexer": "ipython3",
   "version": "3.7.5"
  }
 },
 "nbformat": 4,
 "nbformat_minor": 2
}