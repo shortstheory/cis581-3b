{
 "cells": [
  {
   "cell_type": "code",
   "execution_count": null,
   "metadata": {},
   "outputs": [],
   "source": [
    "%load_ext autoreload\n",
    "%autoreload 2\n",
    "%matplotlib inline\n",
    "from matplotlib import patches, pyplot, pyplot as plt\n",
    "# from matplotlib import pyplot as plt\n",
    "plt.rcParams['figure.figsize'] = [10, 8]\n",
    "import cv2\n",
    "import xml.etree.ElementTree as ET \n",
    "import numpy as np\n",
    "import sys\n",
    "import warnings\n",
    "warnings.filterwarnings(\"ignore\")\n",
    "from getBoundingBoxes import *\n",
    "from corner_detector import *\n",
    "from getBoxFeatures import *\n",
    "from anms import *\n",
    "from utils import *\n",
    "from estimateAllTranslation import *\n",
    "from estimateFeatureTranslation import *\n",
    "from applyBoxTransform import *\n",
    "from refreshFeatures import *\n",
    "from anms_mod import*"
   ]
  },
  {
   "cell_type": "code",
   "execution_count": null,
   "metadata": {},
   "outputs": [],
   "source": [
    "# cap = cv2.VideoCapture('vids/Easy.mp4')\n",
    "# ret,firstFrame = cap.read()\n",
    "# boxes = getBoundingBoxes()\n",
    "# gray = cv2.cvtColor(firstFrame,cv2.COLOR_BGR2GRAY)\n",
    "\n",
    "# boxesData = []\n",
    "\n",
    "# for box in boxes:\n",
    "#     boximg = gray[box[1]:box[3],box[0]:box[2]]\n",
    "#     x,y = getBoxFeatures(boximg,box,100)\n",
    "#     boxData = {\n",
    "#         'coords': box,\n",
    "#         '_x': x,\n",
    "#         '_y': y\n",
    "#     }\n",
    "#     boxesData.append(boxData)\n",
    "\n",
    "# currentFrame = firstFrame\n",
    "# _,nextFrame = cap.read()"
   ]
  },
  {
   "cell_type": "code",
   "execution_count": null,
   "metadata": {},
   "outputs": [],
   "source": [
    "boxes = getBoundingBoxes('0210.xml')\n",
    "currentFrame = cv2.imread('framesMed/0210.png')\n",
    "nextFrame = cv2.imread('framesMed/0209.png')\n",
    "gray = cv2.cvtColor(currentFrame,cv2.COLOR_BGR2GRAY)\n",
    "boxesData = []\n",
    "pts = 10\n",
    "for box in boxes:\n",
    "    boximg = gray[box[1]:box[3],box[0]:box[2]]\n",
    "    x,y = getBoxFeatures(boximg,box,pts)\n",
    "    boxData = {\n",
    "        'coords': box,\n",
    "        'x': x,\n",
    "        'y': y,\n",
    "        'startX': x.copy(),\n",
    "        'startY': y.copy(),\n",
    "        'startCoords': box,\n",
    "        'valid': np.ones(x.shape[0],dtype='bool')\n",
    "    }\n",
    "    boxesData.append(boxData)"
   ]
  },
  {
   "cell_type": "code",
   "execution_count": null,
   "metadata": {},
   "outputs": [],
   "source": [
    "# Imag, Ix, Iy,Iori=findDerivatives(gray)\n",
    "# plt.imshow(Imag)\n",
    "# _x = boxesData[0]['_x']\n",
    "# _y = boxesData[0]['_y']\n",
    "for i in range(210,3,-1):\n",
    "    idx = str(i)\n",
    "    idx = (idx.zfill(4))\n",
    "    nextFrame = cv2.imread(\"framesMed/\"+idx+\".png\")\n",
    "    gray = cv2.cvtColor(currentFrame,cv2.COLOR_BGR2GRAY)\n",
    "\n",
    "    for boxData in boxesData:\n",
    "        print('----',np.sum(boxData['valid']))\n",
    "        if np.sum(boxData['valid'])>=pts-5:\n",
    "            boxData['x'],boxData['y'],boxData['valid'] = estimateAllTranslation(boxData['x'],boxData['y'],boxData['valid'],currentFrame,nextFrame)\n",
    "        else:\n",
    "            print('inside else')\n",
    "            boxData['startCoords']=boxData['coords']\n",
    "            box = boxData['coords'].astype(int)\n",
    "            boximg = gray[box[1]:box[3],box[0]:box[2]]\n",
    "            boxData['x'],boxData['y'],boxData['valid'] = refreshFeatures(boximg,box,boxData['x'], boxData['y'], boxData['valid'],pts)\n",
    "            boxData['startX']=boxData['x']\n",
    "            boxData['startY']=boxData['y'] \n",
    "            print('----after refresh',np.sum(boxData['valid']))\n",
    "        startX = boxData['startX']\n",
    "        startY = boxData['startY']\n",
    "        plt.imshow(cv2.cvtColor(nextFrame,cv2.COLOR_BGR2RGB))\n",
    "        fig = plt.gcf()\n",
    "        ax1 = fig.add_subplot(111)\n",
    "        ax1.scatter(boxData['x'][boxData['valid']],boxData['y'][boxData['valid']],c='r',s=1)\n",
    "        # print(np.sum(boxData['valid']),end=\" \")\n",
    "        if np.sum(boxData['valid']) >= 4:\n",
    "            boxprev = boxData['coords']\n",
    "            boxData['coords'] = applyBoxTransform(startX,startY,boxData['x'],boxData['y'],boxData['startCoords'],boxData['valid'])\n",
    "            coords = boxData['coords']\n",
    "            # xmin,ymin,xmax,ymax\n",
    "            if coords[0] > 0 and coords[1] > 0 and coords[2] < currentFrame.shape[1] and coords[3] < currentFrame.shape[0]:\n",
    "                rect = patches.Rectangle((coords[0],coords[1]),coords[2]-coords[0],coords[3]-coords[1],linewidth=1,edgecolor='b',facecolor='none')\n",
    "                ax1.add_patch(rect)\n",
    "#             else:\n",
    "#                 print('homo fucked up')\n",
    "#                 coords = boxprev\n",
    "#                 boxData['coords']=boxprev\n",
    "#                 rect = patches.Rectangle((coords[0],coords[1]),coords[2]-coords[0],coords[3]-coords[1],linewidth=1,edgecolor='b',facecolor='none')\n",
    "#                 ax1.add_patch(rect)\n",
    "    plt.savefig(\"outputsMedRev/\"+idx+\".png\")\n",
    "    fig.clf()\n",
    "    print(idx)\n",
    "    currentFrame = nextFrame\n",
    "    \n",
    "    \n",
    "    \n",
    "    \n",
    "    \n",
    "    \n",
    "    \n",
    "    \n",
    "    \n",
    "    \n",
    "    \n",
    "    \n",
    "#     idx = str(i)\n",
    "#     idx = (idx.zfill(4))\n",
    "#     x,y=estimateAllTranslation(x,y,currentFrame,nextFrame)\n",
    "#     currentFrame = nextFrame\n",
    "# #     print(x.shape)\n",
    "#     plt.imshow(cv2.cvtColor(nextFrame,cv2.COLOR_BGR2RGB))\n",
    "#     fig = plt.gcf()\n",
    "#     ax1 = fig.add_subplot(111)\n",
    "#     ax1.scatter(x,y,c='r',s=0.3)\n",
    "#     plt.savefig(\"outputs/\"+idx+\".png\")\n",
    "#     nextFrame = cv2.imread(\"framesMed/\"+idx+\".png\")\n",
    "# #     fig.clf()\n",
    "#     print(idx)\n",
    "# print(X-x)\n",
    "# print(Y-y)"
   ]
  },
  {
   "cell_type": "code",
   "execution_count": null,
   "metadata": {},
   "outputs": [],
   "source": [
    "plt.imshow(gray)\n",
    "fig = plt.gcf()\n",
    "ax1 = fig.add_subplot(111)\n",
    "ax1.scatter(x,y,c='r',s=1)"
   ]
  },
  {
   "cell_type": "code",
   "execution_count": null,
   "metadata": {},
   "outputs": [],
   "source": [
    "plt.imshow(cv2.cvtColor(nextFrame,cv2.COLOR_BGR2GRAY))\n",
    "fig = plt.gcf()\n",
    "ax1 = fig.add_subplot(111)\n",
    "ax1.scatter(X,Y,c='r',s=1)\n"
   ]
  },
  {
   "cell_type": "code",
   "execution_count": null,
   "metadata": {},
   "outputs": [],
   "source": [
    "print(X-x)\n",
    "print(Y-y)"
   ]
  },
  {
   "cell_type": "code",
   "execution_count": null,
   "metadata": {},
   "outputs": [],
   "source": [
    "\n",
    "h = est_homography(x,y,X,Y)"
   ]
  },
  {
   "cell_type": "code",
   "execution_count": null,
   "metadata": {},
   "outputs": [],
   "source": [
    "pt = np.array([x[0],y[0],1]).T\n",
    "newpt = h@pt\n",
    "newpt = newpt/newpt[2]\n",
    "print(newpt)\n",
    "print(np.array([X[0],Y[0],1]))"
   ]
  },
  {
   "cell_type": "code",
   "execution_count": null,
   "metadata": {},
   "outputs": [],
   "source": [
    "n = x.shape[0]\n",
    "stk = np.vstack((x,y,np.ones(n)))\n",
    "\n",
    "newstk = np.vstack((X,Y,np.ones(n)))"
   ]
  },
  {
   "cell_type": "code",
   "execution_count": null,
   "metadata": {},
   "outputs": [],
   "source": [
    "res=h@stk\n",
    "res=res/res[2,:]"
   ]
  },
  {
   "cell_type": "code",
   "execution_count": null,
   "metadata": {},
   "outputs": [],
   "source": [
    "# bdata=boxesData[0]['coords']\n",
    "X,Y,_box = applyBoxTransform(x,y,X,Y,box)"
   ]
  },
  {
   "cell_type": "code",
   "execution_count": null,
   "metadata": {},
   "outputs": [],
   "source": [
    "_box"
   ]
  },
  {
   "cell_type": "code",
   "execution_count": null,
   "metadata": {},
   "outputs": [],
   "source": [
    "box"
   ]
  },
  {
   "cell_type": "code",
   "execution_count": null,
   "metadata": {},
   "outputs": [],
   "source": [
    "h"
   ]
  },
  {
   "cell_type": "code",
   "execution_count": null,
   "metadata": {},
   "outputs": [],
   "source": []
  }
 ],
 "metadata": {
  "kernelspec": {
   "display_name": "Python 3",
   "language": "python",
   "name": "python3"
  },
  "language_info": {
   "codemirror_mode": {
    "name": "ipython",
    "version": 3
   },
   "file_extension": ".py",
   "mimetype": "text/x-python",
   "name": "python",
   "nbconvert_exporter": "python",
   "pygments_lexer": "ipython3",
   "version": "3.7.5"
  }
 },
 "nbformat": 4,
 "nbformat_minor": 2
}
